{
 "cells": [
  {
   "cell_type": "markdown",
   "metadata": {},
   "source": [
    "***\n",
    "# <center> \"fragmentación\" o \"slicing\" en Python</center>\n",
    "***"
   ]
  },
  {
   "cell_type": "markdown",
   "metadata": {},
   "source": [
    "La \"fragmentación\" o \"slicing\" en Python se refiere a la capacidad de seleccionar un subconjunto de caracteres de una cadena de texto. Permite acceder a partes específicas de una cadena utilizando índices y rangos. El slicing se realiza utilizando la sintaxis de los corchetes [] con uno o dos puntos : para indicar los límites del subconjunto de caracteres que se desea extraer.  \n",
    "\n",
    "La sintaxis general del slicing en Python es la siguiente:  \n",
    "  \n",
    "<center>cadena[inicio:final]</center>\n",
    "\n",
    "- inicio: Índice del primer carácter que se incluirá en el resultado.\n",
    "\n",
    "- final: Índice del primer carácter que no se incluirá en el resultado. El carácter en esta posición no se incluirá en el subconjunto.\n",
    "\n",
    "1. Slicing Básico  \n",
    "Se puede utilizar el slicing para extraer un rango de caracteres de una cadena. El índice de inicio es inclusivo, y el índice final es exclusivo.\n",
    "\n",
    "Ejemplo:"
   ]
  },
  {
   "cell_type": "code",
   "execution_count": 1,
   "metadata": {},
   "outputs": [
    {
     "name": "stdout",
     "output_type": "stream",
     "text": [
      "Python\n"
     ]
    }
   ],
   "source": [
    "cadena = \"Python es genial\"\n",
    "subcadena = cadena[0:6]  # Extraer desde el índice 0 hasta el 6 (no incluido)\n",
    "print(subcadena)"
   ]
  },
  {
   "cell_type": "markdown",
   "metadata": {},
   "source": [
    "2. Slicing sin Índice de Inicio\n",
    "Si se omite el índice de inicio, Python asumirá que se quiere comenzar desde el principio de la cadena.\n",
    "\n",
    "Ejemplo:"
   ]
  },
  {
   "cell_type": "code",
   "execution_count": 2,
   "metadata": {},
   "outputs": [
    {
     "name": "stdout",
     "output_type": "stream",
     "text": [
      "Python\n"
     ]
    }
   ],
   "source": [
    "cadena = \"Python es genial\"\n",
    "subcadena = cadena[:6]  # Equivalente a cadena[0:6]\n",
    "print(subcadena)\n",
    "# Salida: \"Python\""
   ]
  },
  {
   "cell_type": "markdown",
   "metadata": {},
   "source": [
    "3. Slicing sin Índice de Final\n",
    "Si se omite el índice final, Python asumirá que se quiere llegar hasta el final de la cadena.\n",
    "\n",
    "Ejemplo:"
   ]
  },
  {
   "cell_type": "code",
   "execution_count": 3,
   "metadata": {},
   "outputs": [
    {
     "name": "stdout",
     "output_type": "stream",
     "text": [
      "es genial\n"
     ]
    }
   ],
   "source": [
    "cadena = \"Python es genial\"\n",
    "subcadena = cadena[7:]  # Extraer desde el índice 7 hasta el final\n",
    "print(subcadena)\n",
    "# Salida: \"es genial\""
   ]
  },
  {
   "cell_type": "markdown",
   "metadata": {},
   "source": [
    "4. Slicing con Índices Negativos\n",
    "Se puede utilizar índices negativos para contar desde el final de la cadena.\n",
    "\n",
    "Ejemplo:"
   ]
  },
  {
   "cell_type": "code",
   "execution_count": 4,
   "metadata": {},
   "outputs": [
    {
     "name": "stdout",
     "output_type": "stream",
     "text": [
      "genia\n"
     ]
    }
   ],
   "source": [
    "cadena = \"Python es genial\"\n",
    "subcadena = cadena[-6:-1]  # Extraer los últimos 5 caracteres\n",
    "print(subcadena)\n",
    "# Salida: \"genia\""
   ]
  },
  {
   "cell_type": "markdown",
   "metadata": {},
   "source": [
    "5. Slicing con Pasos\n",
    "Se puede especificar un tercer número en la sintaxis de slicing para indicar un paso, es decir, cuántos caracteres saltar en cada iteración.\n",
    "\n",
    "Ejemplo:"
   ]
  },
  {
   "cell_type": "code",
   "execution_count": 5,
   "metadata": {},
   "outputs": [
    {
     "name": "stdout",
     "output_type": "stream",
     "text": [
      "Pto s\n"
     ]
    }
   ],
   "source": [
    "cadena = \"Python es genial\"\n",
    "subcadena = cadena[0:10:2]  # Extraer caracteres en posición par hasta el índice 10\n",
    "print(subcadena)\n",
    "# Salida: \"Pto s\""
   ]
  },
  {
   "cell_type": "markdown",
   "metadata": {},
   "source": [
    "6. Slicing en Cadenas Inmutables\n",
    "Es importante destacar que las cadenas en Python son inmutables, lo que significa que no se pueden modificar caracteres individuales utilizando slicing. En su lugar, se obtiene una nueva cadena con los caracteres deseados.\n",
    "\n",
    "Ejemplo:"
   ]
  },
  {
   "cell_type": "code",
   "execution_count": 6,
   "metadata": {},
   "outputs": [
    {
     "name": "stdout",
     "output_type": "stream",
     "text": [
      "Pyt + 'p' + on = Pytpon\n"
     ]
    }
   ],
   "source": [
    "cadena = \"Python\"\n",
    "nueva_cadena = cadena[:3] + \"p\" + cadena[4:]  \n",
    "print(f\"{cadena[:3]} + 'p' + {cadena[4:]} = {nueva_cadena}\")\n",
    "# Salida: \"Pytpon\""
   ]
  }
 ],
 "metadata": {
  "kernelspec": {
   "display_name": "Python 3",
   "language": "python",
   "name": "python3"
  },
  "language_info": {
   "codemirror_mode": {
    "name": "ipython",
    "version": 3
   },
   "file_extension": ".py",
   "mimetype": "text/x-python",
   "name": "python",
   "nbconvert_exporter": "python",
   "pygments_lexer": "ipython3",
   "version": "3.10.4"
  },
  "orig_nbformat": 4
 },
 "nbformat": 4,
 "nbformat_minor": 2
}
